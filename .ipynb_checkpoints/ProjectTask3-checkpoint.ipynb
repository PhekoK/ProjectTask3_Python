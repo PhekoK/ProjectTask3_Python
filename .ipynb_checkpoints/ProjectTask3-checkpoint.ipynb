{
 "cells": [
  {
   "cell_type": "markdown",
   "id": "f569dded",
   "metadata": {},
   "source": [
    "## Imported Libraries and Packages I'll need: Beautiful Soup and Selenium, Webdriver \n",
    "\n",
    "## and the initialize webdriver to carry out it's operations"
   ]
  },
  {
   "cell_type": "code",
   "execution_count": null,
   "id": "389913a9",
   "metadata": {},
   "outputs": [],
   "source": [
    "from selenium import webdriver\n",
    "from bs4 import BeautifulSoup\n",
    "import time\n",
    "driver = webdriver.Chrome( executable_path = 'chromedriver.exe')"
   ]
  },
  {
   "cell_type": "markdown",
   "id": "4e726322",
   "metadata": {},
   "source": [
    "## Telling the driver to use the full url of the linked in profiles to scrape"
   ]
  },
  {
   "cell_type": "code",
   "execution_count": null,
   "id": "01234a0b",
   "metadata": {},
   "outputs": [],
   "source": [
    "keyword = 'EditingAuthorEducation'\n",
    "url = 'https://www.linkedin.com/search/results/all/?keywords='\n",
    "url = url + keyword + '&origin=GLOBAL_SEARCH_HEADER&sid=nj5'\n",
    "\n",
    "driver.get(url)"
   ]
  },
  {
   "cell_type": "code",
   "execution_count": null,
   "id": "dcd0e0cb",
   "metadata": {},
   "outputs": [],
   "source": [
    "url"
   ]
  },
  {
   "cell_type": "code",
   "execution_count": null,
   "id": "257b0a3b",
   "metadata": {},
   "outputs": [],
   "source": [
    "url"
   ]
  },
  {
   "cell_type": "markdown",
   "id": "08d4f251",
   "metadata": {},
   "source": [
    "## Once done, I begin the scraping process , The code below first gets the link to the page source code, used beautiful soup to return html content of the page"
   ]
  },
  {
   "cell_type": "code",
   "execution_count": null,
   "id": "6db82b00",
   "metadata": {},
   "outputs": [],
   "source": [
    "src = driver.page_source\n",
    "soup = BeautifulSoup(src, 'html')\n",
    "\n",
    "print (soup.prettify())"
   ]
  },
  {
   "cell_type": "markdown",
   "id": "b38afa88",
   "metadata": {},
   "source": [
    "## Once done, I used XPather to search for the XPath of the source page, and the looped through the 'posts' elements which returns a 'li' element listing all profiles which is displayed through XPather and then print out the elements inside the 'div' elements"
   ]
  },
  {
   "cell_type": "code",
   "execution_count": 116,
   "id": "fab8af44",
   "metadata": {},
   "outputs": [
    {
     "name": "stdout",
     "output_type": "stream",
     "text": [
      "Nidhi Piplani Kapur\n",
      "-------------------------------------------------\n",
      "Head - European Initiatives & Partnerships at Symbiosis International University\n",
      "-------------------------------------------------\n",
      "11h •\n",
      "-------------------------------------------------\n",
      "15 months of hard work finally leads us to this... Happy to share my co-authored chapter with Dr. Vidya Yeravdekar on \"Coping with Covid-19: Forging Creative Pathways to Support Educational Continuity Amidst the Pandemic\"\n",
      "\n",
      "A mosaic of 19 institutional case studies from India, Brazil, Chile, China, Colombia,  Japan, Mexico, Morocco, New Zealand, Portugal, Qatar, Russian Federation, Spain, Turkey, USA, and Vietnam edited by Fernando Reimers and Francisco Marmolejo\n",
      "\n",
      "Absolutely loved being part of this project and sharing our work with the extended community!\n",
      "\n",
      "Download your copy now - https://lnkd.in/eusew58p\n",
      "\n",
      "SYMBIOSIS INTERNATIONAL UNIVERSITY\n",
      "Harvard University\n",
      "Qatar Foundation\n",
      "\n",
      "#intled #highered #schooleducation #covid19pandemic #covid19response #casestudy #India\n",
      "\n",
      "        …see more\n",
      "David Bobby Chong\n",
      "-------------------------------------------------\n",
      "Lawyer - Global Loans (Banking & Finance) at Ashurst | Diversity Advocate (in training)\n",
      "-------------------------------------------------\n",
      "1w •\n",
      "-------------------------------------------------\n",
      "Racism.\n",
      "\n",
      "Following Hannah Wootton's write up in the AFR and Tom Seymour's subsequent LinkedIn post about the regretful trivia session, many are curious about the culture at PwC Australia and I've been receiving many messages. The focus is wrong. \n",
      "\n",
      "I left my former employer on the 9th of August. I remember the date because it was a sad day. PwC Australia is a diverse and caring collection of people and I have not once experienced racism whilst working there. In fact, I experienced the opposite - diverse cultures were spotlighted and celebrated.  It is disappointing to see the actions of 2 people tarnish the reputation of a 8000+ strong workforce. I am surprised that this happened at PwC. I am not surprised that this happened in 21st century Australia. \n",
      "\n",
      "I recall breaking down in the middle of a team meeting last year after my housemates and I were spat on and called \"coronavirus c*nts\" by our neighbour. Someone [the author is a conscious of defamation laws] emptied our garbage bin out on our front entrance in the twilight hours of the next morning - we didn't see our neighbour do it. What I didn't tell my team is that I broke down not because of hurt feelings caused by our neighbour, but because of how close my housemates and I were to breaking the law and committing violence in the face of that situation and the fact that if we did, we would have been portrayed as Asian thugs preying on baby boomers in the media. I recall the backlash that Alyssa Ho experienced for calling out Georgia Love's casual racism (because that's what it was) and all the people who missed the point and were supportive of Love. Only a couple days ago, my mum (healthcare worker) came home with a story about how one of her regular patients joked with her that coronavirus was the only thing to come out of China recently that hadn't broken - in good spirits, we both had a laugh but I could see that she was internally conflicted as she tried to normalise this \"harmless joke\" in her head - she shouldn't have to. \n",
      "\n",
      "Racism and anti-Asian hate is live and kicking in 21st century Australia and it pains me. My hope is by reading this, the reader pauses for even just a moment to acknowledge this and acts to be an ally to those affected. Check in with your friends. Educate yourselves and others. Have a discussion. If you're not a part of the solution, you're a part of the problem. Ask yourself - am I guilty of sweeping these issues under the rug because I am not affected? These issues are lived experiences on the daily for many of your colleagues and friends. \n",
      "\n",
      "We are all fellow humans. Let's work together to build a world where everyone is treated equally and with kindness.\n",
      "\n",
      "[Edit: I have no knowledge of what actually happened during the triva mentioned above. Nor do I have any knowledge with respect to the intenions of the 2 people in question. All I'll say is the sketch was probably not well thought out. This post is intended to highlight issues of racism in modern Australia.]\n",
      "\n",
      "        …see more\n",
      "Yves Dejaeghere\n",
      "-------------------------------------------------\n",
      "Executive Director at Federation for Innovation in Democracy Europe\n",
      "-------------------------------------------------\n",
      "13h •\n",
      "-------------------------------------------------\n"
     ]
    }
   ],
   "source": [
    "contents = soup.find('div', {'class':'ph0 pv0 artdeco-card mb2'})\n",
    "content = contents.find_all('li')\n",
    "\n",
    "for c in content:\n",
    "    try:\n",
    "        print(c.find('span', {'aria-hidden': 'true'}).text.strip())\n",
    "        print('-------------------------------------------------')\n",
    "        print(c.find('div', {'class': 'entity-result__primary-subtitle t-14 t-black t-normal'}).text.strip())\n",
    "        print('-------------------------------------------------')\n",
    "        print(c.find('p', {'class': 't-black--light t-12'}).text.strip())\n",
    "        print('-------------------------------------------------')\n",
    "        print(c.find('div', {'class': 'display-flex mt3'}).text.strip())\n",
    "\n",
    "    except:\n",
    "        pass"
   ]
  },
  {
   "cell_type": "markdown",
   "id": "b8ad41f4",
   "metadata": {},
   "source": [
    "## Then I used a dictionary to loop through the content and display key-value items below"
   ]
  },
  {
   "cell_type": "code",
   "execution_count": 118,
   "id": "b384a96b",
   "metadata": {
    "scrolled": true
   },
   "outputs": [],
   "source": [
    "contents = soup.find('div', {'class':'ph0 pv0 artdeco-card mb2'})\n",
    "content = contents.find_all('li')\n",
    "\n",
    "my_list = []\n",
    "data = []\n",
    "\n",
    "for c in content:\n",
    "    try:\n",
    "        name = c.find('span', {'aria-hidden': 'true'}).text.strip()\n",
    "        company = c.find('div', {'class': 'entity-result__primary-subtitle t-14 t-black t-normal'}).text.strip()\n",
    "        date = c.find('p', {'class': 't-black--light t-12'}).text.strip()\n",
    "        post = c.find('div', {'class': 'display-flex mt3'}).text.strip()\n",
    "        \n",
    "        my_list = ({'name': name, 'company': company, 'date': date, 'post': post})\n",
    "        data.append(my_list)\n",
    "\n",
    "    except:\n",
    "        pass"
   ]
  },
  {
   "cell_type": "code",
   "execution_count": 119,
   "id": "d84c4feb",
   "metadata": {},
   "outputs": [],
   "source": [
    "contents = soup.find('div', {'class':'ph0 pv0 artdeco-card mb2'})\n",
    "content = contents.find_all('li')\n",
    "\n",
    "my_list = []\n",
    "data = []\n",
    "\n",
    "for c in content:\n",
    "    try:\n",
    "        name = c.find('span', {'aria-hidden': 'true'}).text.strip()\n",
    "        company = c.find('div', {'class': 'entity-result__primary-subtitle t-14 t-black t-normal'}).text.strip()\n",
    "        date = c.find('p', {'class': 't-black--light t-12'}).text.strip()\n",
    "        post = c.find('div', {'class': 'display-flex mt3'}).text.strip()\n",
    "        \n",
    "        my_list = ({'name': name, 'company': company, 'date': date, 'post': post})\n",
    "        data.append(my_list)\n",
    "\n",
    "    except:\n",
    "        pass"
   ]
  },
  {
   "cell_type": "code",
   "execution_count": 120,
   "id": "926a85f3",
   "metadata": {
    "scrolled": true
   },
   "outputs": [
    {
     "data": {
      "text/plain": [
       "[{'name': 'Nidhi Piplani Kapur',\n",
       "  'company': 'Head - European Initiatives & Partnerships at Symbiosis International University',\n",
       "  'date': '11h •',\n",
       "  'post': '15 months of hard work finally leads us to this... Happy to share my co-authored chapter with Dr. Vidya Yeravdekar on \"Coping with Covid-19: Forging Creative Pathways to Support Educational Continuity Amidst the Pandemic\"\\n\\nA mosaic of 19 institutional case studies from India, Brazil, Chile, China, Colombia,  Japan, Mexico, Morocco, New Zealand, Portugal, Qatar, Russian Federation, Spain, Turkey, USA, and Vietnam edited by Fernando Reimers and Francisco Marmolejo\\n\\nAbsolutely loved being part of this project and sharing our work with the extended community!\\n\\nDownload your copy now - https://lnkd.in/eusew58p\\n\\nSYMBIOSIS INTERNATIONAL UNIVERSITY\\nHarvard University\\nQatar Foundation\\n\\n#intled #highered #schooleducation #covid19pandemic #covid19response #casestudy #India\\n\\n        …see more'},\n",
       " {'name': 'David Bobby Chong',\n",
       "  'company': 'Lawyer - Global Loans (Banking & Finance) at Ashurst | Diversity Advocate (in training)',\n",
       "  'date': '1w •',\n",
       "  'post': 'Racism.\\n\\nFollowing Hannah Wootton\\'s write up in the AFR and Tom Seymour\\'s subsequent LinkedIn post about the regretful trivia session, many are curious about the culture at PwC Australia and I\\'ve been receiving many messages. The focus is wrong. \\n\\nI left my former employer on the 9th of August. I remember the date because it was a sad day. PwC Australia is a diverse and caring collection of people and I have not once experienced racism whilst working there. In fact, I experienced the opposite - diverse cultures were spotlighted and celebrated.  It is disappointing to see the actions of 2 people tarnish the reputation of a 8000+ strong workforce. I am surprised that this happened at PwC. I am not surprised that this happened in 21st century Australia. \\n\\nI recall breaking down in the middle of a team meeting last year after my housemates and I were spat on and called \"coronavirus c*nts\" by our neighbour. Someone [the author is a conscious of defamation laws] emptied our garbage bin out on our front entrance in the twilight hours of the next morning - we didn\\'t see our neighbour do it. What I didn\\'t tell my team is that I broke down not because of hurt feelings caused by our neighbour, but because of how close my housemates and I were to breaking the law and committing violence in the face of that situation and the fact that if we did, we would have been portrayed as Asian thugs preying on baby boomers in the media. I recall the backlash that Alyssa Ho experienced for calling out Georgia Love\\'s casual racism (because that\\'s what it was) and all the people who missed the point and were supportive of Love. Only a couple days ago, my mum (healthcare worker) came home with a story about how one of her regular patients joked with her that coronavirus was the only thing to come out of China recently that hadn\\'t broken - in good spirits, we both had a laugh but I could see that she was internally conflicted as she tried to normalise this \"harmless joke\" in her head - she shouldn\\'t have to. \\n\\nRacism and anti-Asian hate is live and kicking in 21st century Australia and it pains me. My hope is by reading this, the reader pauses for even just a moment to acknowledge this and acts to be an ally to those affected. Check in with your friends. Educate yourselves and others. Have a discussion. If you\\'re not a part of the solution, you\\'re a part of the problem. Ask yourself - am I guilty of sweeping these issues under the rug because I am not affected? These issues are lived experiences on the daily for many of your colleagues and friends. \\n\\nWe are all fellow humans. Let\\'s work together to build a world where everyone is treated equally and with kindness.\\n\\n[Edit: I have no knowledge of what actually happened during the triva mentioned above. Nor do I have any knowledge with respect to the intenions of the 2 people in question. All I\\'ll say is the sketch was probably not well thought out. This post is intended to highlight issues of racism in modern Australia.]\\n\\n        …see more'}]"
      ]
     },
     "execution_count": 120,
     "metadata": {},
     "output_type": "execute_result"
    }
   ],
   "source": [
    "data"
   ]
  },
  {
   "cell_type": "code",
   "execution_count": 121,
   "id": "b7e2cc1b",
   "metadata": {},
   "outputs": [
    {
     "name": "stdout",
     "output_type": "stream",
     "text": [
      "11h •\n",
      "1w •\n"
     ]
    }
   ],
   "source": [
    "for row in data:\n",
    "    print(row['date'])"
   ]
  },
  {
   "cell_type": "code",
   "execution_count": 122,
   "id": "7ae56c8c",
   "metadata": {},
   "outputs": [
    {
     "name": "stdout",
     "output_type": "stream",
     "text": [
      "15 months of hard work finally leads us to this... Happy to share my co-authored chapter with Dr. Vidya Yeravdekar on \"Coping with Covid-19: Forging Creative Pathways to Support Educational Continuity Amidst the Pandemic\"\n",
      "\n",
      "A mosaic of 19 institutional case studies from India, Brazil, Chile, China, Colombia,  Japan, Mexico, Morocco, New Zealand, Portugal, Qatar, Russian Federation, Spain, Turkey, USA, and Vietnam edited by Fernando Reimers and Francisco Marmolejo\n",
      "\n",
      "Absolutely loved being part of this project and sharing our work with the extended community!\n",
      "\n",
      "Download your copy now - https://lnkd.in/eusew58p\n",
      "\n",
      "SYMBIOSIS INTERNATIONAL UNIVERSITY\n",
      "Harvard University\n",
      "Qatar Foundation\n",
      "\n",
      "#intled #highered #schooleducation #covid19pandemic #covid19response #casestudy #India\n",
      "\n",
      "        …see more\n",
      "Racism.\n",
      "\n",
      "Following Hannah Wootton's write up in the AFR and Tom Seymour's subsequent LinkedIn post about the regretful trivia session, many are curious about the culture at PwC Australia and I've been receiving many messages. The focus is wrong. \n",
      "\n",
      "I left my former employer on the 9th of August. I remember the date because it was a sad day. PwC Australia is a diverse and caring collection of people and I have not once experienced racism whilst working there. In fact, I experienced the opposite - diverse cultures were spotlighted and celebrated.  It is disappointing to see the actions of 2 people tarnish the reputation of a 8000+ strong workforce. I am surprised that this happened at PwC. I am not surprised that this happened in 21st century Australia. \n",
      "\n",
      "I recall breaking down in the middle of a team meeting last year after my housemates and I were spat on and called \"coronavirus c*nts\" by our neighbour. Someone [the author is a conscious of defamation laws] emptied our garbage bin out on our front entrance in the twilight hours of the next morning - we didn't see our neighbour do it. What I didn't tell my team is that I broke down not because of hurt feelings caused by our neighbour, but because of how close my housemates and I were to breaking the law and committing violence in the face of that situation and the fact that if we did, we would have been portrayed as Asian thugs preying on baby boomers in the media. I recall the backlash that Alyssa Ho experienced for calling out Georgia Love's casual racism (because that's what it was) and all the people who missed the point and were supportive of Love. Only a couple days ago, my mum (healthcare worker) came home with a story about how one of her regular patients joked with her that coronavirus was the only thing to come out of China recently that hadn't broken - in good spirits, we both had a laugh but I could see that she was internally conflicted as she tried to normalise this \"harmless joke\" in her head - she shouldn't have to. \n",
      "\n",
      "Racism and anti-Asian hate is live and kicking in 21st century Australia and it pains me. My hope is by reading this, the reader pauses for even just a moment to acknowledge this and acts to be an ally to those affected. Check in with your friends. Educate yourselves and others. Have a discussion. If you're not a part of the solution, you're a part of the problem. Ask yourself - am I guilty of sweeping these issues under the rug because I am not affected? These issues are lived experiences on the daily for many of your colleagues and friends. \n",
      "\n",
      "We are all fellow humans. Let's work together to build a world where everyone is treated equally and with kindness.\n",
      "\n",
      "[Edit: I have no knowledge of what actually happened during the triva mentioned above. Nor do I have any knowledge with respect to the intenions of the 2 people in question. All I'll say is the sketch was probably not well thought out. This post is intended to highlight issues of racism in modern Australia.]\n",
      "\n",
      "        …see more\n"
     ]
    }
   ],
   "source": [
    "for row in data:\n",
    "    print(row['post'])"
   ]
  },
  {
   "cell_type": "code",
   "execution_count": 123,
   "id": "9b9ab237",
   "metadata": {},
   "outputs": [
    {
     "name": "stdout",
     "output_type": "stream",
     "text": [
      "Head - European Initiatives & Partnerships at Symbiosis International University\n",
      "Lawyer - Global Loans (Banking & Finance) at Ashurst | Diversity Advocate (in training)\n"
     ]
    }
   ],
   "source": [
    "for row in data:\n",
    "    print(row['company'])"
   ]
  },
  {
   "cell_type": "code",
   "execution_count": 124,
   "id": "7fcc782d",
   "metadata": {},
   "outputs": [
    {
     "name": "stdout",
     "output_type": "stream",
     "text": [
      "Nidhi Piplani Kapur\n",
      "David Bobby Chong\n"
     ]
    }
   ],
   "source": [
    "for row in data:\n",
    "    print(row['name'])"
   ]
  },
  {
   "cell_type": "markdown",
   "id": "d2bec3f9",
   "metadata": {},
   "source": [
    "## Created a project with anvil.works to created a python web application to connect the scraped data to the app"
   ]
  },
  {
   "cell_type": "code",
   "execution_count": 125,
   "id": "bcbf433c",
   "metadata": {},
   "outputs": [],
   "source": [
    "import anvil.server\n",
    "\n",
    "anvil.server.connect(\"3N5EUSMJPT6FZBTOGBD2WCZX-FHAAISIGVHCMLQ4J\")"
   ]
  },
  {
   "cell_type": "code",
   "execution_count": 126,
   "id": "aea1066c",
   "metadata": {},
   "outputs": [],
   "source": [
    "@anvil.server.callable\n",
    "def webscrape():\n",
    "  return data\n"
   ]
  },
  {
   "cell_type": "code",
   "execution_count": null,
   "id": "e1225423",
   "metadata": {},
   "outputs": [],
   "source": []
  }
 ],
 "metadata": {
  "kernelspec": {
   "display_name": "Python 3 (ipykernel)",
   "language": "python",
   "name": "python3"
  },
  "language_info": {
   "codemirror_mode": {
    "name": "ipython",
    "version": 3
   },
   "file_extension": ".py",
   "mimetype": "text/x-python",
   "name": "python",
   "nbconvert_exporter": "python",
   "pygments_lexer": "ipython3",
   "version": "3.9.2"
  }
 },
 "nbformat": 4,
 "nbformat_minor": 5
}
