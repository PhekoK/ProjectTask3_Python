{
 "cells": [
  {
   "cell_type": "markdown",
   "id": "9bb52909",
   "metadata": {},
   "source": [
    "## Imported Libraries and Packages I'll need: Beautiful Soup and Selenium, Webdriver \n",
    "\n",
    "## and the initialize webdriver to carry out it's operations"
   ]
  },
  {
   "cell_type": "code",
   "execution_count": null,
   "id": "389913a9",
   "metadata": {},
   "outputs": [],
   "source": [
    "from selenium import webdriver\n",
    "from bs4 import BeautifulSoup\n",
    "import time\n",
    "driver = webdriver.Chrome( executable_path = 'chromedriver.exe')"
   ]
  },
  {
   "cell_type": "markdown",
   "id": "f6be537c",
   "metadata": {},
   "source": [
    "## Telling the driver to use the full url of the linked in profiles to scrape"
   ]
  },
  {
   "cell_type": "code",
   "execution_count": null,
   "id": "01234a0b",
   "metadata": {},
   "outputs": [],
   "source": [
    "keyword = 'EditingAuthorEducation'\n",
    "url = 'https://www.linkedin.com/search/results/all/?keywords='\n",
    "url = url + keyword + '&origin=GLOBAL_SEARCH_HEADER&sid=nj5'\n",
    "\n",
    "driver.get(url)"
   ]
  },
  {
   "cell_type": "code",
   "execution_count": null,
   "id": "dcd0e0cb",
   "metadata": {},
   "outputs": [],
   "source": [
    "url"
   ]
  },
  {
   "cell_type": "code",
   "execution_count": null,
   "id": "257b0a3b",
   "metadata": {},
   "outputs": [],
   "source": [
    "url"
   ]
  },
  {
   "cell_type": "markdown",
   "id": "23a4611e",
   "metadata": {},
   "source": [
    "## Once done, I begin the scraping process , The code below first gets the link to the page source code, used beautiful soup to return html content of the page"
   ]
  },
  {
   "cell_type": "code",
   "execution_count": null,
   "id": "6db82b00",
   "metadata": {},
   "outputs": [],
   "source": [
    "src = driver.page_source\n",
    "soup = BeautifulSoup(src, 'html')\n",
    "\n",
    "print (soup.prettify())"
   ]
  },
  {
   "cell_type": "markdown",
   "id": "d90921eb",
   "metadata": {},
   "source": [
    "## Once done, I used XPather to search for the XPath of the source page, and the looped through the 'posts' elements which returns a 'li' element listing all profiles which is displayed through XPather and then print out the elements inside the 'div' elements"
   ]
  },
  {
   "cell_type": "code",
   "execution_count": null,
   "id": "e54ab52e",
   "metadata": {},
   "outputs": [],
   "source": [
    "contents = soup.find('div', {'class':'ph0 pv0 artdeco-card mb2'})\n",
    "content = contents.find_all('li')\n",
    "\n",
    "for c in content:\n",
    "    try:\n",
    "        print(c.find('span', {'aria-hidden': 'true'}).text.strip())\n",
    "        print('-------------------------------------------------')\n",
    "        print(c.find('div', {'class': 'entity-result__primary-subtitle t-14 t-black t-normal'}).text.strip())\n",
    "        print('-------------------------------------------------')\n",
    "        print(c.find('p', {'class': 't-black--light t-12'}).text.strip())\n",
    "        print('-------------------------------------------------')\n",
    "        print(c.find('div', {'class': 'display-flex mt3'}).text.strip())\n",
    "\n",
    "    except:\n",
    "        pass"
   ]
  },
  {
   "cell_type": "markdown",
   "id": "59ee6e18",
   "metadata": {},
   "source": [
    "## Then I used a dictionary to loop through the content and display key-value items below"
   ]
  },
  {
   "cell_type": "code",
   "execution_count": null,
   "id": "b384a96b",
   "metadata": {
    "scrolled": true
   },
   "outputs": [],
   "source": [
    "contents = soup.find('div', {'class':'ph0 pv0 artdeco-card mb2'})\n",
    "content = contents.find_all('li')\n",
    "\n",
    "my_list = []\n",
    "data = []\n",
    "\n",
    "for c in content:\n",
    "    try:\n",
    "        name = c.find('span', {'aria-hidden': 'true'}).text.strip()\n",
    "        company = c.find('div', {'class': 'entity-result__primary-subtitle t-14 t-black t-normal'}).text.strip()\n",
    "        date = c.find('p', {'class': 't-black--light t-12'}).text.strip()\n",
    "        post = c.find('div', {'class': 'display-flex mt3'}).text.strip()\n",
    "        \n",
    "        my_list = ({'name': name, 'company': company, 'date': date, 'post': post})\n",
    "        data.append(my_list)\n",
    "\n",
    "    except:\n",
    "        pass"
   ]
  },
  {
   "cell_type": "code",
   "execution_count": null,
   "id": "d84c4feb",
   "metadata": {},
   "outputs": [],
   "source": [
    "contents = soup.find('div', {'class':'ph0 pv0 artdeco-card mb2'})\n",
    "content = contents.find_all('li')\n",
    "\n",
    "my_list = []\n",
    "data = []\n",
    "\n",
    "for c in content:\n",
    "    try:\n",
    "        name = c.find('span', {'aria-hidden': 'true'}).text.strip()\n",
    "        company = c.find('div', {'class': 'entity-result__primary-subtitle t-14 t-black t-normal'}).text.strip()\n",
    "        date = c.find('p', {'class': 't-black--light t-12'}).text.strip()\n",
    "        post = c.find('div', {'class': 'display-flex mt3'}).text.strip()\n",
    "        \n",
    "        my_list = ({'name': name, 'company': company, 'date': date, 'post': post})\n",
    "        data.append(my_list)\n",
    "\n",
    "    except:\n",
    "        pass"
   ]
  },
  {
   "cell_type": "code",
   "execution_count": null,
   "id": "926a85f3",
   "metadata": {
    "scrolled": true
   },
   "outputs": [],
   "source": [
    "data"
   ]
  },
  {
   "cell_type": "code",
   "execution_count": null,
   "id": "b7e2cc1b",
   "metadata": {},
   "outputs": [],
   "source": [
    "for row in data:\n",
    "    print(row['date'])"
   ]
  },
  {
   "cell_type": "code",
   "execution_count": null,
   "id": "7ae56c8c",
   "metadata": {},
   "outputs": [],
   "source": [
    "for row in data:\n",
    "    print(row['post'])"
   ]
  },
  {
   "cell_type": "code",
   "execution_count": null,
   "id": "9b9ab237",
   "metadata": {},
   "outputs": [],
   "source": [
    "for row in data:\n",
    "    print(row['company'])"
   ]
  },
  {
   "cell_type": "code",
   "execution_count": null,
   "id": "7fcc782d",
   "metadata": {},
   "outputs": [],
   "source": [
    "for row in data:\n",
    "    print(row['name'])"
   ]
  },
  {
   "cell_type": "markdown",
   "id": "4a15d416",
   "metadata": {},
   "source": [
    "## Created a project with anvil.works to created a python web application to connect the scraped data to the app"
   ]
  },
  {
   "cell_type": "code",
   "execution_count": null,
   "id": "bcbf433c",
   "metadata": {},
   "outputs": [],
   "source": [
    "import anvil.server\n",
    "\n",
    "anvil.server.connect(\"3N5EUSMJPT6FZBTOGBD2WCZX-FHAAISIGVHCMLQ4J\")"
   ]
  },
  {
   "cell_type": "code",
   "execution_count": null,
   "id": "aea1066c",
   "metadata": {},
   "outputs": [],
   "source": [
    "@anvil.server.callable\n",
    "def webscrape():\n",
    "  return data\n"
   ]
  },
  {
   "cell_type": "code",
   "execution_count": null,
   "id": "e1225423",
   "metadata": {},
   "outputs": [],
   "source": []
  }
 ],
 "metadata": {
  "kernelspec": {
   "display_name": "Python 3 (ipykernel)",
   "language": "python",
   "name": "python3"
  },
  "language_info": {
   "codemirror_mode": {
    "name": "ipython",
    "version": 3
   },
   "file_extension": ".py",
   "mimetype": "text/x-python",
   "name": "python",
   "nbconvert_exporter": "python",
   "pygments_lexer": "ipython3",
   "version": "3.9.2"
  }
 },
 "nbformat": 4,
 "nbformat_minor": 5
}
